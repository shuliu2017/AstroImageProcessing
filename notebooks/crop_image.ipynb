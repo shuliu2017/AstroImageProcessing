{
  "nbformat": 4,
  "nbformat_minor": 0,
  "metadata": {
    "colab": {
      "provenance": []
    },
    "kernelspec": {
      "name": "python3",
      "display_name": "Python 3"
    },
    "language_info": {
      "name": "python"
    }
  },
  "cells": [
    {
      "cell_type": "markdown",
      "source": [
        "# Making a Cutout of an Image at a Given Position\n"
      ],
      "metadata": {
        "id": "0F_SA5CdVwc1"
      }
    },
    {
      "cell_type": "markdown",
      "source": [
        "In astronomical image processing, we often need to crop an image into small pieces at a given location. We implement a function which crops an image into a given size."
      ],
      "metadata": {
        "id": "o_UBJQUBWUtI"
      }
    },
    {
      "cell_type": "code",
      "source": [
        "import numpy as np\n",
        "\n",
        "def crop_image(image, cr, cc, half_r = 50, half_c=50, fill_edge=True, fill_value=np.nan):\n",
        "    r_left = min(half_r, cr)\n",
        "    r_right = min(half_r, image.shape[0] - 1 - cr)\n",
        "    c_left = min(half_c, cc)\n",
        "    c_right = min(half_c, image.shape[1] - 1 - cc)\n",
        "\n",
        "\n",
        "    image_slice = image[cr - r_left: cr + r_right + 1, cc - c_left: cc + c_right + 1].copy()\n",
        "\n",
        "    if fill_edge:\n",
        "        cutout = np.full( (2 * half_r + 1, 2 * half_c + 1), fill_value)\n",
        "        cutout[half_r - r_left: half_r + r_right + 1, half_c - c_left: half_c + c_right + 1] = image_slice\n",
        "        return cutout\n",
        "    else:\n",
        "        return image_slice"
      ],
      "metadata": {
        "id": "TLbNdjGsWTwE"
      },
      "execution_count": 50,
      "outputs": []
    },
    {
      "cell_type": "code",
      "source": [
        "test_image = np.array([[0, 0, 0],\n",
        "                       [0, 0, 0],\n",
        "                       [1, 1, 1],\n",
        "                       [0, 0, 0]])"
      ],
      "metadata": {
        "id": "WlxIiXzP3KiU"
      },
      "execution_count": 49,
      "outputs": []
    },
    {
      "cell_type": "markdown",
      "source": [
        "# Test"
      ],
      "metadata": {
        "id": "huiAebE0kG7C"
      }
    },
    {
      "cell_type": "code",
      "source": [
        "import matplotlib.pyplot as plt"
      ],
      "metadata": {
        "id": "8hEJZYNVkIwo"
      },
      "execution_count": null,
      "outputs": []
    },
    {
      "cell_type": "markdown",
      "source": [
        "## Crop size is larger than the image size"
      ],
      "metadata": {
        "id": "1FkexX2QF3Aq"
      }
    },
    {
      "cell_type": "code",
      "source": [
        "cropped_image = crop_image(test_image, cr=2, cc=1, half_r = 50, half_c=30, fill_edge=True, fill_value=np.nan)\n",
        "# check cropped image shape\n",
        "print(cropped_image.shape)\n",
        "print('-------------------------------------------------')\n",
        "# check fill value with np.nan\n",
        "print(cropped_image)\n",
        "print('-------------------------------------------------')\n",
        "# check image center\n",
        "print(cropped_image[48: 53, 28: 33])"
      ],
      "metadata": {
        "colab": {
          "base_uri": "https://localhost:8080/"
        },
        "id": "0SNb17QXE4r7",
        "outputId": "7aa40660-fbfe-4a74-85d0-fecc54eb0a33"
      },
      "execution_count": 34,
      "outputs": [
        {
          "output_type": "stream",
          "name": "stdout",
          "text": [
            "(101, 61)\n",
            "-------------------------------------------------\n",
            "[[nan nan nan ... nan nan nan]\n",
            " [nan nan nan ... nan nan nan]\n",
            " [nan nan nan ... nan nan nan]\n",
            " ...\n",
            " [nan nan nan ... nan nan nan]\n",
            " [nan nan nan ... nan nan nan]\n",
            " [nan nan nan ... nan nan nan]]\n",
            "-------------------------------------------------\n",
            "[[nan  0.  0.  0. nan]\n",
            " [nan  0.  0.  0. nan]\n",
            " [nan  1.  1.  1. nan]\n",
            " [nan  0.  0.  0. nan]\n",
            " [nan nan nan nan nan]]\n"
          ]
        }
      ]
    },
    {
      "cell_type": "code",
      "source": [
        "# check fill value with 0\n",
        "cropped_image = crop_image(test_image, cr=2, cc=1, half_r = 50, half_c=30, fill_edge=True, fill_value=0)\n",
        "print(cropped_image[48: 53, 28: 33])"
      ],
      "metadata": {
        "id": "u8ED6-G-3NhL",
        "colab": {
          "base_uri": "https://localhost:8080/"
        },
        "outputId": "f993773e-87a1-4330-b8bd-f44c985d836d"
      },
      "execution_count": 35,
      "outputs": [
        {
          "output_type": "stream",
          "name": "stdout",
          "text": [
            "[[0 0 0 0 0]\n",
            " [0 0 0 0 0]\n",
            " [0 1 1 1 0]\n",
            " [0 0 0 0 0]\n",
            " [0 0 0 0 0]]\n"
          ]
        }
      ]
    },
    {
      "cell_type": "code",
      "source": [
        "# do not fill edge\n",
        "cropped_image = crop_image(test_image, cr=2, cc=1, half_r = 50, half_c=30, fill_edge=False, fill_value=0)\n",
        "print(cropped_image)"
      ],
      "metadata": {
        "colab": {
          "base_uri": "https://localhost:8080/"
        },
        "id": "bKbDIV12jfrz",
        "outputId": "f982e416-a8da-4079-a608-d8dab97dbbf2"
      },
      "execution_count": 44,
      "outputs": [
        {
          "output_type": "stream",
          "name": "stdout",
          "text": [
            "[[0 0 0]\n",
            " [0 0 0]\n",
            " [1 1 1]\n",
            " [0 0 0]]\n"
          ]
        }
      ]
    },
    {
      "cell_type": "markdown",
      "source": [
        "## Crop size is equal to the image size"
      ],
      "metadata": {
        "id": "9mS2E67JfTTv"
      }
    },
    {
      "cell_type": "code",
      "source": [
        "cropped_image = crop_image(test_image, cr=2, cc=1, half_r = 2, half_c=1, fill_edge=True, fill_value=0)\n",
        "print(cropped_image)"
      ],
      "metadata": {
        "colab": {
          "base_uri": "https://localhost:8080/"
        },
        "id": "8xbebFbfGVuK",
        "outputId": "285f7118-9bc5-4835-f6fe-e076e3d0b820"
      },
      "execution_count": 37,
      "outputs": [
        {
          "output_type": "stream",
          "name": "stdout",
          "text": [
            "[[0 0 0]\n",
            " [0 0 0]\n",
            " [1 1 1]\n",
            " [0 0 0]\n",
            " [0 0 0]]\n"
          ]
        }
      ]
    },
    {
      "cell_type": "code",
      "source": [
        "# do not fill edge\n",
        "cropped_image = crop_image(test_image, cr=2, cc=1, half_r = 2, half_c=1, fill_edge=False, fill_value=0)\n",
        "print(cropped_image)"
      ],
      "metadata": {
        "colab": {
          "base_uri": "https://localhost:8080/"
        },
        "id": "iTJVjMipjm6j",
        "outputId": "817a201c-6c78-4c25-9362-028418ed2822"
      },
      "execution_count": 45,
      "outputs": [
        {
          "output_type": "stream",
          "name": "stdout",
          "text": [
            "[[0 0 0]\n",
            " [0 0 0]\n",
            " [1 1 1]\n",
            " [0 0 0]]\n"
          ]
        }
      ]
    },
    {
      "cell_type": "markdown",
      "source": [
        "## Crop size is smaller than the image size"
      ],
      "metadata": {
        "id": "6fFQaHzDihm9"
      }
    },
    {
      "cell_type": "code",
      "source": [],
      "metadata": {
        "id": "oLoGSs4Rjmi8"
      },
      "execution_count": null,
      "outputs": []
    },
    {
      "cell_type": "code",
      "source": [
        "cropped_image = crop_image(test_image, cr=2, cc=1, half_r = 1, half_c=1, fill_edge=True, fill_value=np.nan)\n",
        "print(cropped_image)"
      ],
      "metadata": {
        "colab": {
          "base_uri": "https://localhost:8080/"
        },
        "id": "mlylxBoAjMET",
        "outputId": "2b57bdfe-3346-4d46-c108-859248cac460"
      },
      "execution_count": 43,
      "outputs": [
        {
          "output_type": "stream",
          "name": "stdout",
          "text": [
            "[[0. 0. 0.]\n",
            " [1. 1. 1.]\n",
            " [0. 0. 0.]]\n"
          ]
        }
      ]
    },
    {
      "cell_type": "code",
      "source": [
        "cropped_image = crop_image(test_image, cr=2, cc=1, half_r = 1, half_c=0, fill_edge=True, fill_value=np.nan)\n",
        "print(cropped_image)"
      ],
      "metadata": {
        "colab": {
          "base_uri": "https://localhost:8080/"
        },
        "id": "Iy9-v7DWG_m6",
        "outputId": "87d064a6-9bc0-4822-dfc2-bb604594c3b1"
      },
      "execution_count": 42,
      "outputs": [
        {
          "output_type": "stream",
          "name": "stdout",
          "text": [
            "[[0.]\n",
            " [1.]\n",
            " [0.]]\n"
          ]
        }
      ]
    },
    {
      "cell_type": "code",
      "source": [
        "# do not fill edge\n",
        "cropped_image = crop_image(test_image, cr=2, cc=1, half_r = 1, half_c=1, fill_edge=False, fill_value=np.nan)\n",
        "print(cropped_image)"
      ],
      "metadata": {
        "colab": {
          "base_uri": "https://localhost:8080/"
        },
        "id": "2F4AZu3einBU",
        "outputId": "a011c9e5-3de7-4f5d-e1af-4979eb3cd009"
      },
      "execution_count": 47,
      "outputs": [
        {
          "output_type": "stream",
          "name": "stdout",
          "text": [
            "[[0 0 0]\n",
            " [1 1 1]\n",
            " [0 0 0]]\n"
          ]
        }
      ]
    },
    {
      "cell_type": "code",
      "source": [],
      "metadata": {
        "id": "xwf15LN0jui7"
      },
      "execution_count": null,
      "outputs": []
    }
  ]
}